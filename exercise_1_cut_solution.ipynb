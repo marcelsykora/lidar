{
 "cells": [
  {
   "cell_type": "markdown",
   "metadata": {},
   "source": [
    "Here we load las file: 2510_1138.las with help of laspy library. "
   ]
  },
  {
   "cell_type": "code",
   "execution_count": 2,
   "metadata": {},
   "outputs": [],
   "source": [
    "import laspy\n",
    "import numpy as np\n",
    "\n",
    "inFile = laspy.read(\"C:\\\\VASP\\\\bordel\\\\lidar\\\\c276-05.las\")"
   ]
  },
  {
   "cell_type": "markdown",
   "metadata": {},
   "source": [
    "Print bounding box, scale, offset of loaded file:"
   ]
  },
  {
   "cell_type": "code",
   "execution_count": 17,
   "metadata": {},
   "outputs": [
    {
     "name": "stdout",
     "output_type": "stream",
     "text": [
      "points:  3089359\n",
      "inFile.header.min: [6.26966078e+06 1.88396375e+06 3.29680000e+02]\n",
      "inFile.header.max: [6.27101193e+06 1.88508190e+06 4.54480000e+02]\n",
      "scale: [0.01 0.01 0.01]\n",
      "offset: [-0. -0. -0.]\n",
      "example of point:  (626975670, 188399042, 35557, 10, 27, 1, -22, 0, 911, 2.90806777e+08)\n",
      "point classification:  1\n"
     ]
    }
   ],
   "source": [
    "print(\"points: \", len(inFile.points))\n",
    "\n",
    "print(\"inFile.header.min:\", inFile.header.mins)\n",
    "print(\"inFile.header.max:\", inFile.header.maxs)\n",
    "\n",
    "print(\"scale:\", inFile.header.scales)\n",
    "print(\"offset:\", inFile.header.offsets)\n",
    "\n",
    "print(\"example of point: \", inFile.points.array[0])\n",
    "\n",
    "print(\"point classification: \", inFile.points[\"classification\"].array[0])"
   ]
  },
  {
   "cell_type": "markdown",
   "metadata": {},
   "source": [
    "Here we will find points, which are greater than half delimiter on axis y:"
   ]
  },
  {
   "cell_type": "code",
   "execution_count": 5,
   "metadata": {},
   "outputs": [
    {
     "name": "stdout",
     "output_type": "stream",
     "text": [
      "new points:  1137838\n"
     ]
    }
   ],
   "source": [
    "half_delimiter_y = int(inFile.header.min[1] + ((inFile.header.max[1] - inFile.header.min[1])/2)) \n",
    "\n",
    "def get_more_than_delimiter(delimiter):\n",
    "    index = inFile.y > delimiter\n",
    "    return inFile.points[index]\n",
    "\n",
    "new_points = get_more_than_delimiter(half_delimiter_y)\n",
    "print(\"new points: \", len(new_points))\n"
   ]
  },
  {
   "cell_type": "markdown",
   "metadata": {},
   "source": [
    "Save filtered points into another file"
   ]
  },
  {
   "cell_type": "code",
   "execution_count": 9,
   "metadata": {},
   "outputs": [],
   "source": [
    "outFile = laspy.LasData(header = inFile.header)\n",
    "outFile.header.min[1] = half_delimiter_y\n",
    "outFile.points = new_points\n",
    "outFile.write(\".\\\\2510_1138_half.las\")"
   ]
  }
 ],
 "metadata": {
  "interpreter": {
   "hash": "f652fcc71747c2ef48ee8efff4c52b9cd1b6962ef4a16690a2324716f7b5dc33"
  },
  "kernelspec": {
   "display_name": "Python 3.9.0 64-bit",
   "name": "python3"
  },
  "language_info": {
   "codemirror_mode": {
    "name": "ipython",
    "version": 3
   },
   "file_extension": ".py",
   "mimetype": "text/x-python",
   "name": "python",
   "nbconvert_exporter": "python",
   "pygments_lexer": "ipython3",
   "version": "3.9.0"
  },
  "metadata": {
   "interpreter": {
    "hash": "a43b10c175a775975ce1e170ca288ec7f5d352903232392dd958e7a5c9ade653"
   }
  },
  "orig_nbformat": 2
 },
 "nbformat": 4,
 "nbformat_minor": 2
}
