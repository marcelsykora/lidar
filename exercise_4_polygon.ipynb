{
 "cells": [
  {
   "cell_type": "markdown",
   "metadata": {},
   "source": [
    "## Exercise 4.\n",
    "### Find polygon of x,y coordinates for your points cloud, so you can display it on the map."
   ]
  },
  {
   "cell_type": "markdown",
   "metadata": {},
   "source": [
    "### Hint 1:\n",
    "this is how you can display points and itspolygon"
   ]
  },
  {
   "cell_type": "code",
   "execution_count": 7,
   "metadata": {},
   "outputs": [],
   "source": [
    "import numpy as np\n",
    "points_array = np.array([(1,1),(1.3, 1.1), (1.8, 1.6), (2,1), (2,2), (1,2), (1.5, 1.5)])\n",
    "polygon_array = np.array([(1,1), (2,1), (2,2), (1,2), (1.5, 1.5)])"
   ]
  },
  {
   "cell_type": "code",
   "execution_count": 8,
   "metadata": {},
   "outputs": [
    {
     "data": {
      "text/plain": [
       "<matplotlib.patches.Polygon at 0x21cdbc8aeb0>"
      ]
     },
     "execution_count": 8,
     "metadata": {},
     "output_type": "execute_result"
    },
    {
     "data": {
      "image/png": "[encoded data removed]",
      "text/plain": [
       "<Figure size 432x288 with 1 Axes>"
      ]
     },
     "metadata": {
      "needs_background": "light"
     },
     "output_type": "display_data"
    }
   ],
   "source": [
    "import matplotlib.pyplot as plt\n",
    "from matplotlib.patches import Polygon\n",
    "\n",
    "polygon = Polygon(polygon_array, closed=True, alpha=0.2, color = \"r\")\n",
    "\n",
    "fig, ax1 = plt.subplots()\n",
    "ax1.scatter(*zip(*points_array))\n",
    "ax1.add_patch(polygon)"
   ]
  },
  {
   "cell_type": "markdown",
   "metadata": {},
   "source": [
    "### Hint 2:\n",
    "Conversion from one coordinate system to another <br>\n",
    "Specificaly from Swiss CH1903+ / LV95 to latitude, logitude\n",
    "\n",
    "https://epsg.io/"
   ]
  },
  {
   "cell_type": "code",
   "execution_count": null,
   "metadata": {},
   "outputs": [],
   "source": [
    "from pyproj import CRS, Transformer\n",
    "latLongCRS = CRS.from_epsg(4326)\n",
    "ch1903LV95CRS = CRS.from_epsg(2056)\n",
    "transformer = Transformer.from_crs(2056, 4326)\n",
    "\n",
    "transformer.transform(x,y)"
   ]
  },
  {
   "cell_type": "markdown",
   "metadata": {},
   "source": []
  }
 ],
 "metadata": {
  "interpreter": {
   "hash": "f652fcc71747c2ef48ee8efff4c52b9cd1b6962ef4a16690a2324716f7b5dc33"
  },
  "kernelspec": {
   "display_name": "Python 3.9.0 64-bit",
   "name": "python3"
  },
  "language_info": {
   "codemirror_mode": {
    "name": "ipython",
    "version": 3
   },
   "file_extension": ".py",
   "mimetype": "text/x-python",
   "name": "python",
   "nbconvert_exporter": "python",
   "pygments_lexer": "ipython3",
   "version": "3.9.0"
  },
  "orig_nbformat": 4
 },
 "nbformat": 4,
 "nbformat_minor": 2
}
