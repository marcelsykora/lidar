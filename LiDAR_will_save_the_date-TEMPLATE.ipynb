{
 "cells": [
  {
   "cell_type": "code",
   "execution_count": null,
   "metadata": {},
   "outputs": [],
   "source": [
    "!python --version"
   ]
  },
  {
   "cell_type": "code",
   "execution_count": null,
   "metadata": {},
   "outputs": [],
   "source": [
    "!pip3 install whitebox -U"
   ]
  },
  {
   "cell_type": "code",
   "execution_count": null,
   "metadata": {},
   "outputs": [],
   "source": [
    "!pip3 install laspy"
   ]
  },
  {
   "cell_type": "markdown",
   "metadata": {},
   "source": [
    "## LAS POINT CLOUD FORMAT\n",
    "### INTRO: Get info about your downloaded LAS file by using whitebox library\n",
    "Download LAS file from this site https://www.swisstopo.admin.ch/en/geodata/height/surface3d.html#technische_details\n",
    "<br>(whitebox library manual: https://www.whiteboxgeo.com/manual/wbt_book/available_tools/lidar_tools.html)"
   ]
  },
  {
   "cell_type": "code",
   "execution_count": null,
   "metadata": {},
   "outputs": [],
   "source": [
    "import whitebox\n",
    "\n",
    "wbt = whitebox.WhiteboxTools()\n",
    "\n",
    "input_las = ''"
   ]
  },
  {
   "cell_type": "markdown",
   "metadata": {},
   "source": [
    "### EXCERCISE 2. <br>\n",
    "### Filter separately point clouds classified with number 6 and number 3 and create new LAS files. Test your result in CloudCompare. What do these class numbers represent?\n",
    "Use whitebox library https://www.whiteboxgeo.com/manual/wbt_book/available_tools/lidar_tools.html for one filtering and laspy library for another.\n",
    "Steps:\n",
    "\n",
    "* Original LAS file\n",
    "\n",
    "* View in CloudCompare\n",
    "\n",
    "* Select and store separately class 3 and 6 in Python\n",
    "\n",
    "* View class LAS files in CloudCompare\n",
    "\n",
    "* Let us know what is it :)"
   ]
  },
  {
   "cell_type": "code",
   "execution_count": null,
   "metadata": {},
   "outputs": [],
   "source": [
    "import whitebox\n",
    "import laspy\n",
    "\n",
    "wbt = whitebox.WhiteboxTools()\n",
    "\n",
    "input_las = ''\n"
   ]
  },
  {
   "cell_type": "markdown",
   "metadata": {},
   "source": [
    "### EXCERCISE 3. <br>\n",
    "### Try to clustering.\n",
    "Steps:\n",
    "\n",
    "* Use flann library to compute 100 nearest point clouds to a selected point cloud\n",
    "\n",
    "* Create a csv file of nearest points with all specification for LAS file\n",
    "\n",
    "* Change class number to number 10\n",
    "\n",
    "* Generate a new LAS file\n",
    "\n",
    "* View new LAS file in CloudCompare\n",
    "\n",
    "* Try to cluster only one building"
   ]
  },
  {
   "cell_type": "code",
   "execution_count": null,
   "metadata": {},
   "outputs": [],
   "source": [
    "# Install this library to read LAS File\n",
    "!pip3 install laspy\n",
    "\n",
    "# To Measure distance\n",
    "!pip3 install pyflann-py3"
   ]
  },
  {
   "cell_type": "markdown",
   "metadata": {},
   "source": [
    "### Create a csv file and create new las file only with 1000 point clouds\n",
    "Every csv need to have LAS header -> wr.writerow(['X','Y','Z','INTENSITY','CLASS','RETURN','NUM_RETURN','SCAN_ANGLE','TIME'])"
   ]
  },
  {
   "cell_type": "code",
   "execution_count": null,
   "metadata": {},
   "outputs": [],
   "source": [
    "import csv\n",
    "import whitebox\n",
    "\n",
    "wbt = whitebox.WhiteboxTools()\n",
    "\n",
    "input_las = ''\n"
   ]
  },
  {
   "cell_type": "markdown",
   "metadata": {},
   "source": [
    "### Converting cvs to las file using whitebox library https://www.whiteboxgeo.com/manual/wbt_book/available_tools/lidar_tools.html \n",
    "You will need a projection number -> https://spatialreference.org/ref/epsg/2056/"
   ]
  },
  {
   "cell_type": "code",
   "execution_count": null,
   "metadata": {},
   "outputs": [],
   "source": [
    "import whitebox\n",
    "\n",
    "wbt = whitebox.WhiteboxTools()\n",
    "\n",
    "building_csv = ''"
   ]
  },
  {
   "cell_type": "markdown",
   "metadata": {},
   "source": [
    "### Using flann library to compute 100 nearest neighbors\n",
    "1. read LAS file\n",
    "2. find 100 nearest_neigbhor, check the distance\n",
    "3. create a new csv, where you will change a class number to 10\n",
    "<br> Every csv need to have LAS header -> wr.writerow(['X','Y','Z','INTENSITY','CLASS','RETURN','NUM_RETURN','SCAN_ANGLE','TIME'])"
   ]
  },
  {
   "cell_type": "code",
   "execution_count": null,
   "metadata": {},
   "outputs": [],
   "source": [
    "import laspy\n",
    "import numpy as np\n",
    "from pyflann import *\n",
    "import csv\n",
    "flann = FLANN()\n",
    "\n",
    "def nearest_100_points(other_points, first_point, points=100):\n",
    "    neighbors = flann.nn(other_points, first_point, num_neighbors = points)\n",
    "    return neighbors\n",
    "\n",
    "# ######################### read 1000 point clouds of buildings ##################################################\n",
    "inFile = laspy.file.File(\"\", mode = \"r\")\n",
    "coords_buildings = np.vstack((inFile.x, inFile.y, inFile.z)).transpose()\n",
    "coords_buildings_allinfo = np.vstack((inFile.x, inFile.y, inFile.z, inFile.intensity, inFile.raw_classification, inFile.user_data,inFile.pt_src_id, inFile.scan_angle_rank, inFile.gps_time)).transpose()\n",
    "\n",
    "### create a csv file\n",
    "with open('','w') as f:\n",
    "    writer = csv.writer(f)\n",
    "    writer.writerow(['X','Y','Z','INTENSITY','CLASS','RETURN','NUM_RETURN','SCAN_ANGLE','TIME'])\n",
    "    writer.writerows()\n",
    "\n",
    "    \n",
    "    "
   ]
  },
  {
   "cell_type": "markdown",
   "metadata": {},
   "source": [
    "### Create a final LAS file. Check the result in CloudCompare. Try to cluster only one building.\n",
    "Generate the final LAS file by using whitebox library https://www.whiteboxgeo.com/manual/wbt_book/available_tools/lidar_tools.html <br>\n",
    "You will need a projection number -> https://spatialreference.org/ref/epsg/2056/"
   ]
  },
  {
   "cell_type": "code",
   "execution_count": null,
   "metadata": {},
   "outputs": [],
   "source": [
    "import whitebox\n",
    "\n",
    "wbt = whitebox.WhiteboxTools()\n",
    "\n",
    "building_csv = ''\n"
   ]
  }
 ],
 "metadata": {
  "interpreter": {
   "hash": "949777d72b0d2535278d3dc13498b2535136f6dfe0678499012e853ee9abcab1"
  },
  "kernelspec": {
   "display_name": "Python 3 (ipykernel)",
   "language": "python",
   "name": "python3"
  },
  "language_info": {
   "codemirror_mode": {
    "name": "ipython",
    "version": 3
   },
   "file_extension": ".py",
   "mimetype": "text/x-python",
   "name": "python",
   "nbconvert_exporter": "python",
   "pygments_lexer": "ipython3",
   "version": "3.7.9"
  }
 },
 "nbformat": 4,
 "nbformat_minor": 2
}
