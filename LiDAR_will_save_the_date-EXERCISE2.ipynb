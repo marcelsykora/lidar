{
 "cells": [
  {
   "cell_type": "code",
   "execution_count": null,
   "metadata": {},
   "outputs": [],
   "source": [
    "!python --version"
   ]
  },
  {
   "cell_type": "code",
   "execution_count": null,
   "metadata": {},
   "outputs": [],
   "source": [
    "!pip3 install whitebox -U"
   ]
  },
  {
   "cell_type": "code",
   "execution_count": 3,
   "metadata": {},
   "outputs": [
    {
     "name": "stdout",
     "output_type": "stream",
     "text": [
      "Collecting laspy==2.0.3\n",
      "  Downloading laspy-2.0.3.tar.gz (597 kB)\n",
      "     |████████████████████████████████| 597 kB 1.9 MB/s            \n",
      "\u001b[?25h  Installing build dependencies ... \u001b[?25ldone\n",
      "\u001b[?25h  Getting requirements to build wheel ... \u001b[?25ldone\n",
      "\u001b[?25h  Preparing wheel metadata (pyproject.toml) ... \u001b[?25ldone\n",
      "\u001b[?25hRequirement already satisfied: numpy in /Library/Frameworks/Python.framework/Versions/3.7/lib/python3.7/site-packages (from laspy==2.0.3) (1.19.5)\n",
      "Building wheels for collected packages: laspy\n",
      "  Building wheel for laspy (pyproject.toml) ... \u001b[?25ldone\n",
      "\u001b[?25h  Created wheel for laspy: filename=laspy-2.0.3-py3-none-any.whl size=50559 sha256=0b4dbc3dc3a06a24d302846f9ba83b7d0c9434d22c0e0052d52eb4a5cb347acd\n",
      "  Stored in directory: /Users/lubica.dubravcova/Library/Caches/pip/wheels/91/48/47/5d5d7185b39b0045a39707357dd7d6d66dc703916c5a521843\n",
      "Successfully built laspy\n",
      "Installing collected packages: laspy\n",
      "  Attempting uninstall: laspy\n",
      "    Found existing installation: laspy 1.7.0\n",
      "    Uninstalling laspy-1.7.0:\n",
      "      Successfully uninstalled laspy-1.7.0\n",
      "Successfully installed laspy-2.0.3\n"
     ]
    }
   ],
   "source": [
    "!pip3 install laspy==2.0.3"
   ]
  },
  {
   "cell_type": "markdown",
   "metadata": {},
   "source": [
    "## LAS POINT CLOUD FORMAT\n",
    "### INTRO: Get info about your downloaded LAS file by using whitebox library\n",
    "Download LAS file from this site https://www.swisstopo.admin.ch/en/geodata/height/surface3d.html#technische_details\n",
    "<br>(whitebox library manual: https://www.whiteboxgeo.com/manual/wbt_book/available_tools/lidar_tools.html)"
   ]
  },
  {
   "cell_type": "code",
   "execution_count": 8,
   "metadata": {},
   "outputs": [
    {
     "name": "stdout",
     "output_type": "stream",
     "text": [
      "./whitebox_tools --run=\"LidarInfo\" --input='/Users/lubica.dubravcova/Documents/lidar/2689_1203.las' --output='/Users/lubica.dubravcova/Documents/lidar/2689_1203-info.html' --vlr --geokeys\n",
      "\n"
     ]
    },
    {
     "data": {
      "text/plain": [
       "0"
      ]
     },
     "execution_count": 8,
     "metadata": {},
     "output_type": "execute_result"
    }
   ],
   "source": [
    "import whitebox\n",
    "\n",
    "wbt = whitebox.WhiteboxTools()\n",
    "\n",
    "input_las = '/Users/lubica.dubravcova/Documents/lidar/2689_1203.las'\n",
    "info_html = '/Users/lubica.dubravcova/Documents/lidar/2689_1203-info.html'\n",
    "\n",
    "##################### INFO ABOUT LAS FILE ################# \n",
    "### DOCUMENTATION FOR FUNCTION https://www.whiteboxgeo.com/manual/wbt_book/available_tools/lidar_tools.html#LidarInfo\n",
    "wbt.lidar_info(input_las, info_html)"
   ]
  },
  {
   "cell_type": "markdown",
   "metadata": {},
   "source": [
    "### EXCERCISE 2. <br>\n",
    "### Filter separately point clouds classified with number 6 and number 3 and create new LAS files. Test your result in CloudCompare. What do these class numbers represent?\n",
    "Use whitebox library https://www.whiteboxgeo.com/manual/wbt_book/available_tools/lidar_tools.html for one filtering and laspy library for another.\n",
    "Steps:\n",
    "\n",
    "* Original LAS file\n",
    "\n",
    "* View in CloudCompare\n",
    "\n",
    "* Select and store separately class 3 and 6 in Python\n",
    "\n",
    "* View class LAS files in CloudCompare\n",
    "\n",
    "* Let us know what is it :)"
   ]
  },
  {
   "cell_type": "code",
   "execution_count": 4,
   "metadata": {},
   "outputs": [
    {
     "name": "stdout",
     "output_type": "stream",
     "text": [
      "./whitebox_tools --run=\"FilterLidarClasses\" --input='/Users/lubica.dubravcova/Documents/lidar/2689_1203.las' --output='/Users/lubica.dubravcova/Documents/lidar/2689_1203_class3.las' --exclude_cls='0,1,2,4,5,6,7,8,9,10,11,12,13,14,15,16,17,18,19,20,21,22,23,24,26,27,28,29,30,31'\n",
      "\n"
     ]
    },
    {
     "data": {
      "text/plain": [
       "0"
      ]
     },
     "execution_count": 4,
     "metadata": {},
     "output_type": "execute_result"
    }
   ],
   "source": [
    "import whitebox\n",
    "import laspy\n",
    "\n",
    "wbt = whitebox.WhiteboxTools()\n",
    "\n",
    "input_las = '/Users/lubica.dubravcova/Documents/lidar/2689_1203.las'\n",
    "output_las_class3 = '/Users/lubica.dubravcova/Documents/lidar/2689_1203_class3.las'\n",
    "output_las_class6 = '/Users/lubica.dubravcova/Documents/lidar/2689_1203_class6.las'\n",
    "\n",
    "\n",
    "las = laspy.read(input_las)\n",
    "new_file = laspy.create(point_format=las.header.point_format, file_version=las.header.version)\n",
    "new_file.points = las.points[las.classification == 6]\n",
    "\n",
    "new_file.write(output_las_class6)\n",
    "\n",
    "##################### NEW LAS FILES AFTER SELECTION SOME CLASS/CLASSES ################# \n",
    "## function for creating .las file for specific class\n",
    "## For example: If you want .las file for Low Vegetation (3) you need removed this number from exclude_cls string \n",
    "### DOCUMENTATION FOR FUNCTION https://jblindsay.github.io/wbt_book/available_tools/lidar_tools.html#FilterLidarClasses \n",
    "wbt.filter_lidar_classes(input_las, output_las_class3, exclude_cls='0,1,2,4,5,6,7,8,9,10,11,12,13,14,15,16,17,18,19,20,21,22,23,24,26,27,28,29,30,31')\n"
   ]
  },
  {
   "cell_type": "markdown",
   "metadata": {},
   "source": [
    "### EXCERCISE 3. <br>\n",
    "### Try to clustering.\n",
    "Steps:\n",
    "\n",
    "* Use flann library to compute 100 nearest point clouds to a selected point cloud\n",
    "\n",
    "* Create a csv file of nearest points with all specification for LAS file\n",
    "\n",
    "* Change class number to number 10\n",
    "\n",
    "* Generate a new LAS file\n",
    "\n",
    "* View new LAS file in CloudCompare\n",
    "\n",
    "* Try to cluster only one building"
   ]
  },
  {
   "cell_type": "code",
   "execution_count": null,
   "metadata": {},
   "outputs": [],
   "source": [
    "# Install this library to read LAS File\n",
    "!pip3 install laspy\n",
    "\n",
    "# To Measure distance\n",
    "!pip3 install pyflann-py3"
   ]
  },
  {
   "cell_type": "markdown",
   "metadata": {},
   "source": [
    "### Create a csv file and create new las file only with 1000 point clouds\n",
    "Every csv need to have LAS header -> wr.writerow(['X','Y','Z','INTENSITY','CLASS','RETURN','NUM_RETURN','SCAN_ANGLE','TIME'])"
   ]
  },
  {
   "cell_type": "code",
   "execution_count": null,
   "metadata": {},
   "outputs": [],
   "source": [
    "import csv\n",
    "import whitebox\n",
    "\n",
    "wbt = whitebox.WhiteboxTools()\n",
    "\n",
    "input_las = ''\n"
   ]
  },
  {
   "cell_type": "markdown",
   "metadata": {},
   "source": [
    "### Converting cvs to las file using whitebox library https://www.whiteboxgeo.com/manual/wbt_book/available_tools/lidar_tools.html \n",
    "You will need a projection number -> https://spatialreference.org/ref/epsg/2056/"
   ]
  },
  {
   "cell_type": "code",
   "execution_count": null,
   "metadata": {},
   "outputs": [],
   "source": [
    "import whitebox\n",
    "\n",
    "wbt = whitebox.WhiteboxTools()\n",
    "\n",
    "building_csv = ''"
   ]
  },
  {
   "cell_type": "markdown",
   "metadata": {},
   "source": [
    "### Using flann library to compute 100 nearest neighbors\n",
    "1. read LAS file\n",
    "2. find 100 nearest_neigbhor, check the distance\n",
    "3. create a new csv, where you will change a class number to 10\n",
    "<br> Every csv need to have LAS header -> wr.writerow(['X','Y','Z','INTENSITY','CLASS','RETURN','NUM_RETURN','SCAN_ANGLE','TIME'])"
   ]
  },
  {
   "cell_type": "code",
   "execution_count": null,
   "metadata": {},
   "outputs": [],
   "source": [
    "import laspy\n",
    "import numpy as np\n",
    "from pyflann import *\n",
    "import csv\n",
    "flann = FLANN()\n",
    "\n",
    "def nearest_100_points(other_points, first_point, points=100):\n",
    "    neighbors = flann.nn(other_points, first_point, num_neighbors = points)\n",
    "    return neighbors\n",
    "\n",
    "# ######################### read 1000 point clouds of buildings ##################################################\n",
    "inFile = laspy.file.File(\"\", mode = \"r\")\n",
    "coords_buildings = np.vstack((inFile.x, inFile.y, inFile.z)).transpose()\n",
    "coords_buildings_allinfo = np.vstack((inFile.x, inFile.y, inFile.z, inFile.intensity, inFile.raw_classification, inFile.user_data,inFile.pt_src_id, inFile.scan_angle_rank, inFile.gps_time)).transpose()\n",
    "\n",
    "### create a csv file\n",
    "with open('','w') as f:\n",
    "    writer = csv.writer(f)\n",
    "    writer.writerow(['X','Y','Z','INTENSITY','CLASS','RETURN','NUM_RETURN','SCAN_ANGLE','TIME'])\n",
    "    writer.writerows()\n",
    "\n",
    "    \n",
    "    "
   ]
  },
  {
   "cell_type": "markdown",
   "metadata": {},
   "source": [
    "### Create a final LAS file. Check the result in CloudCompare. Try to cluster only one building.\n",
    "Generate the final LAS file by using whitebox library https://www.whiteboxgeo.com/manual/wbt_book/available_tools/lidar_tools.html <br>\n",
    "You will need a projection number -> https://spatialreference.org/ref/epsg/2056/"
   ]
  },
  {
   "cell_type": "code",
   "execution_count": null,
   "metadata": {},
   "outputs": [],
   "source": [
    "import whitebox\n",
    "\n",
    "wbt = whitebox.WhiteboxTools()\n",
    "\n",
    "building_csv = ''\n"
   ]
  }
 ],
 "metadata": {
  "interpreter": {
   "hash": "949777d72b0d2535278d3dc13498b2535136f6dfe0678499012e853ee9abcab1"
  },
  "kernelspec": {
   "display_name": "Python 3.7.9 64-bit",
   "name": "python3"
  },
  "language_info": {
   "codemirror_mode": {
    "name": "ipython",
    "version": 3
   },
   "file_extension": ".py",
   "mimetype": "text/x-python",
   "name": "python",
   "nbconvert_exporter": "python",
   "pygments_lexer": "ipython3",
   "version": "3.7.9"
  }
 },
 "nbformat": 4,
 "nbformat_minor": 2
}
